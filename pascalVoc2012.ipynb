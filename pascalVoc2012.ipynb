# Import essential libs
import torchvision
from torchvision.datasets import VOCDetection
from torchvision import transforms
from torch.utils.data import DataLoader
import matplotlib.pyplot as plt
import matplotlib.patches as patches
import numpy as np

# Prepare to transform for images
transform = transforms.Compose([
    transforms.Resize((224, 224)),
    transforms.ToTensor()
])

# Download 2012 annotation
dataset = VOCDetection(root='./data', year='2012', image_set='train', download=True, transform=transform)

# Get a sample
img_tensor, target = dataset[0]
img = img_tensor.permute(1, 2, 0).numpy()  # Chuyển từ [C,H,W] -> [H,W,C]

# prepare to display
fig, ax = plt.subplots(1, figsize=(8, 8))
ax.imshow(img)

# Get object list
objects = target['annotation']['object']
if isinstance(objects, dict):
    objects = [objects]  # Trường hợp có 1 object duy nhất

orig_size = (int(target['annotation']['size']['width']),
             int(target['annotation']['size']['height']))
scale_x = 224 / orig_size[0]
scale_y = 224 / orig_size[1]

# Draw template and label
for obj in objects:
    name = obj['name']
    bbox = obj['bndbox']
    xmin = int(float(bbox['xmin']) * scale_x)
    ymin = int(float(bbox['ymin']) * scale_y)
    xmax = int(float(bbox['xmax']) * scale_x)
    ymax = int(float(bbox['ymax']) * scale_y)
    width = xmax - xmin
    height = ymax - ymin

    rect = patches.Rectangle((xmin, ymin), width, height, linewidth=2, edgecolor='red', facecolor='none')
    ax.add_patch(rect)
    ax.text(xmin, ymin - 5, name, color='red', fontsize=12, weight='bold')

plt.axis('off')
plt.show()

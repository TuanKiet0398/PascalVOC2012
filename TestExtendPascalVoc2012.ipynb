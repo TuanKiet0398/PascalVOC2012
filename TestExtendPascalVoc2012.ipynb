import torch
from torchvision.datasets import VOCDetection
from torchvision import transforms
from torch.utils.data import DataLoader
import matplotlib.pyplot as plt
import matplotlib.patches as patches
import numpy as np

# 1. Định nghĩa transform cho ảnh
transform = transforms.Compose([
    transforms.Resize((224, 224)),
    transforms.ToTensor()
])

# 2. Tải tập dữ liệu VOC 2012
dataset = VOCDetection(root='./data', year='2012', image_set='train', download=True, transform=transform)

# 3. Định nghĩa collate_fn để xử lý batch chứa dict
def voc_collate_fn(batch):
    images = []
    targets = []
    for img, target in batch:
        images.append(img)
        targets.append(target)
    return images, targets

# 4. Tạo DataLoader với batch_size = 4 và collate_fn tùy chỉnh
dataloader = DataLoader(dataset, batch_size=4, shuffle=True, collate_fn=voc_collate_fn)

# 5. Hàm hiển thị batch ảnh kèm bounding boxes
def show_batch(images, targets):
    fig, axs = plt.subplots(2, 2, figsize=(12, 12))
    axs = axs.flatten()

    for i in range(len(images)):
        img = images[i].permute(1, 2, 0).numpy()
        target = targets[i]
        ax = axs[i]
        ax.imshow(img)

        # Scale bounding box vì ảnh đã resize
        orig_size = (
            int(target['annotation']['size']['width']),
            int(target['annotation']['size']['height'])
        )
        scale_x = 224 / orig_size[0]
        scale_y = 224 / orig_size[1]

        objects = target['annotation']['object']
        if isinstance(objects, dict):  # Nếu chỉ có 1 object
            objects = [objects]

        for obj in objects:
            name = obj['name']
            bbox = obj['bndbox']
            xmin = int(float(bbox['xmin']) * scale_x)
            ymin = int(float(bbox['ymin']) * scale_y)
            xmax = int(float(bbox['xmax']) * scale_x)
            ymax = int(float(bbox['ymax']) * scale_y)
            width = xmax - xmin
            height = ymax - ymin

            rect = patches.Rectangle((xmin, ymin), width, height, linewidth=2, edgecolor='red', facecolor='none')
            ax.add_patch(rect)
            ax.text(xmin, ymin - 5, name, color='red', fontsize=10, weight='bold')

        ax.axis('off')

    plt.tight_layout()
    plt.show()

# 6. Hiển thị một batch đầu tiên
for images, targets in dataloader:
    show_batch(images, targets)
    break  # chỉ hiển thị 1 batch
